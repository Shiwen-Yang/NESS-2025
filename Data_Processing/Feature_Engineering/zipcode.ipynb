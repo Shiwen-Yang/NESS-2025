{
 "cells": [
  {
   "cell_type": "markdown",
   "id": "ce828776",
   "metadata": {},
   "source": [
    "Installation - uszipcode\n",
    "\n",
    "- python 3.6 - 3.10\n",
    "- haversine>=2.5.0\n",
    "- SQLAlchemy>=2.0.30\n",
    "- sqlalchemy_mate == 2.0.0.0"
   ]
  },
  {
   "cell_type": "code",
   "execution_count": 5,
   "id": "7838b52b",
   "metadata": {},
   "outputs": [],
   "source": [
    "from uszipcode import SearchEngine\n",
    "import pandas as pd\n",
    "import os"
   ]
  },
  {
   "cell_type": "code",
   "execution_count": 26,
   "id": "d924c343",
   "metadata": {},
   "outputs": [
    {
     "name": "stdout",
     "output_type": "stream",
     "text": [
      "Download /Users/yaochen/.uszipcode/comprehensive_db.sqlite from https://github.com/MacHu-GWU/uszipcode-project/releases/download/1.0.1.db/comprehensive_db.sqlite ...\n",
      "  50.00 MB downloaded ...\n",
      "  100.00 MB downloaded ...\n",
      "  150.00 MB downloaded ...\n",
      "  200.00 MB downloaded ...\n",
      "  250.00 MB downloaded ...\n",
      "  300.00 MB downloaded ...\n",
      "  350.00 MB downloaded ...\n",
      "  400.00 MB downloaded ...\n",
      "  Complete!\n"
     ]
    },
    {
     "data": {
      "text/plain": [
       "ComprehensiveZipcode(polygon=[[-73.997113, 40.754616], [-73.995816, 40.754057], [-73.99562, 40.753973], [-73.992979, 40.752854], [-73.992528, 40.753474], [-73.989694, 40.75228], [-73.990134, 40.751659], [-73.987779, 40.750661], [-73.987294, 40.750451], [-73.986794, 40.750241], [-73.98442, 40.749246], [-73.984076, 40.749102], [-73.98456, 40.748439], [-73.985046, 40.747773], [-73.985496, 40.747152], [-73.985949, 40.746536], [-73.986393, 40.745921], [-73.986846, 40.745301], [-73.987298, 40.744682], [-73.987746, 40.744066], [-73.988194, 40.743451], [-73.989011, 40.743796], [-73.988978, 40.743965], [-73.988869, 40.744533], [-73.990968, 40.745421], [-73.991145, 40.745177], [-73.991419, 40.744802], [-73.991871, 40.744186], [-73.992063, 40.743919], [-73.992411, 40.744021], [-73.994212, 40.744839], [-73.99503, 40.744941], [-73.996124, 40.745679], [-73.997272, 40.746077], [-73.997683, 40.745816], [-73.998009, 40.745952], [-73.997552, 40.746581], [-73.999352, 40.74733], [-74.000399, 40.747767], [-74.000848, 40.747147], [-74.00351, 40.74828], [-74.003684, 40.748355], [-74.006529, 40.749553], [-74.007023, 40.74889], [-74.008621, 40.749523], [-74.008487, 40.750357], [-74.007945, 40.75176], [-74.007713, 40.752444], [-74.007449, 40.753165], [-74.007218, 40.753873], [-74.006815, 40.754522], [-74.005733, 40.75597], [-74.005437, 40.756364], [-74.004927, 40.757023], [-74.002942, 40.759731], [-74.000067, 40.758403], [-74.000138, 40.758307], [-74.000584, 40.757693], [-74.001055, 40.757067], [-74.0015, 40.756452], [-74.000818, 40.756162], [-74.000013, 40.756616], [-73.998208, 40.755869], [-73.998432, 40.755563], [-73.998661, 40.755252], [-73.997567, 40.754791], [-73.997113, 40.754616]], population_by_year=[{'key': 'Data', 'values': [{'x': 2005, 'y': 16393}, {'x': 2006, 'y': 16499}, {'x': 2007, 'y': 18329}, {'x': 2008, 'y': 17262}, {'x': 2009, 'y': 17308}, {'x': 2010, 'y': 18158}, {'x': 2011, 'y': 18684}, {'x': 2012, 'y': 18280}, {'x': 2013, 'y': 18840}, {'x': 2014, 'y': 19370}, {'x': 2015, 'y': 19710}, {'x': 2016, 'y': 19960}, {'x': 2017, 'y': 20950}, {'x': 2018, 'y': 21760}]}], population_by_age=[{'key': 'Male', 'values': [{'x': 0, 'y': 336}, {'x': 1, 'y': 240}, {'x': 2, 'y': 240}, {'x': 3, 'y': 367}, {'x': 4, 'y': 875}, {'x': 5, 'y': 1309}, {'x': 6, 'y': 1150}, {'x': 7, 'y': 935}, {'x': 8, 'y': 904}, {'x': 9, 'y': 864}, {'x': 10, 'y': 723}, {'x': 11, 'y': 669}, {'x': 12, 'y': 506}, {'x': 13, 'y': 338}, {'x': 14, 'y': 263}, {'x': 15, 'y': 199}, {'x': 16, 'y': 151}, {'x': 17, 'y': 115}]}, {'key': 'Female', 'values': [{'x': 0, 'y': 288}, {'x': 1, 'y': 218}, {'x': 2, 'y': 248}, {'x': 3, 'y': 1009}, {'x': 4, 'y': 1757}, {'x': 5, 'y': 1432}, {'x': 6, 'y': 945}, {'x': 7, 'y': 701}, {'x': 8, 'y': 560}, {'x': 9, 'y': 537}, {'x': 10, 'y': 582}, {'x': 11, 'y': 539}, {'x': 12, 'y': 541}, {'x': 13, 'y': 456}, {'x': 14, 'y': 310}, {'x': 15, 'y': 269}, {'x': 16, 'y': 212}, {'x': 17, 'y': 314}]}, {'key': 'Total', 'color': '#000000', 'values': [{'x': 0, 'y': 624}, {'x': 1, 'y': 458}, {'x': 2, 'y': 488}, {'x': 3, 'y': 1376}, {'x': 4, 'y': 2632}, {'x': 5, 'y': 2741}, {'x': 6, 'y': 2095}, {'x': 7, 'y': 1636}, {'x': 8, 'y': 1464}, {'x': 9, 'y': 1401}, {'x': 10, 'y': 1305}, {'x': 11, 'y': 1208}, {'x': 12, 'y': 1047}, {'x': 13, 'y': 794}, {'x': 14, 'y': 573}, {'x': 15, 'y': 468}, {'x': 16, 'y': 363}, {'x': 17, 'y': 429}]}], population_by_gender=[{'key': 'Data', 'values': [{'x': 'Male', 'y': 10184}, {'x': 'Female', 'y': 10918}]}], population_by_race=[{'key': 'Data', 'values': [{'x': 'White', 'y': 13722}, {'x': 'Black Or African American', 'y': 1897}, {'x': 'American Indian Or Alaskan Native', 'y': 75}, {'x': 'Asian', 'y': 3539}, {'x': 'Native Hawaiian & Other Pacific Islander', 'y': 5}, {'x': 'Other Race', 'y': 1063}, {'x': 'Two Or More Races', 'y': 801}]}], head_of_household_by_age=[{'key': 'Owner', 'values': [{'x': 0, 'y': 19}, {'x': 1, 'y': 232}, {'x': 2, 'y': 519}, {'x': 3, 'y': 619}, {'x': 4, 'y': 565}, {'x': 5, 'y': 410}, {'x': 6, 'y': 290}, {'x': 7, 'y': 181}]}, {'key': 'Renter', 'values': [{'x': 0, 'y': 1022}, {'x': 1, 'y': 2551}, {'x': 2, 'y': 1469}, {'x': 3, 'y': 1117}, {'x': 4, 'y': 925}, {'x': 5, 'y': 560}, {'x': 6, 'y': 357}, {'x': 7, 'y': 195}]}, {'key': 'Total', 'color': '#000000', 'values': [{'x': 0, 'y': 1041}, {'x': 1, 'y': 2783}, {'x': 2, 'y': 1988}, {'x': 3, 'y': 1736}, {'x': 4, 'y': 1490}, {'x': 5, 'y': 970}, {'x': 6, 'y': 647}, {'x': 7, 'y': 376}]}], families_vs_singles=[{'key': 'Data', 'values': [{'x': 'Husband Wife Family Households', 'y': 2038}, {'x': 'Single Guardian', 'y': 1138}, {'x': 'Singles', 'y': 5895}, {'x': 'Singles With Roommate', 'y': 1960}]}], households_with_kids=[{'key': 'Data', 'values': [{'x': 'Households Without Kids', 'y': 9853}, {'x': 'Households With Kids', 'y': 1178}]}], children_by_age=[{'key': 'Male', 'values': [{'x': 0, 'y': 74}, {'x': 1, 'y': 47}, {'x': 2, 'y': 62}, {'x': 3, 'y': 67}, {'x': 4, 'y': 49}, {'x': 5, 'y': 53}, {'x': 6, 'y': 47}, {'x': 7, 'y': 53}, {'x': 8, 'y': 38}, {'x': 9, 'y': 54}, {'x': 10, 'y': 44}, {'x': 11, 'y': 36}, {'x': 12, 'y': 54}, {'x': 13, 'y': 52}, {'x': 14, 'y': 45}, {'x': 15, 'y': 61}, {'x': 16, 'y': 49}, {'x': 17, 'y': 97}, {'x': 18, 'y': 115}, {'x': 19, 'y': 121}]}, {'key': 'Female', 'values': [{'x': 0, 'y': 67}, {'x': 1, 'y': 51}, {'x': 2, 'y': 65}, {'x': 3, 'y': 51}, {'x': 4, 'y': 36}, {'x': 5, 'y': 58}, {'x': 6, 'y': 52}, {'x': 7, 'y': 35}, {'x': 8, 'y': 37}, {'x': 9, 'y': 38}, {'x': 10, 'y': 41}, {'x': 11, 'y': 53}, {'x': 12, 'y': 53}, {'x': 13, 'y': 63}, {'x': 14, 'y': 36}, {'x': 15, 'y': 37}, {'x': 16, 'y': 58}, {'x': 17, 'y': 401}, {'x': 18, 'y': 477}, {'x': 19, 'y': 296}]}, {'key': 'Total', 'color': '#000000', 'values': [{'x': 0, 'y': 141}, {'x': 1, 'y': 98}, {'x': 2, 'y': 127}, {'x': 3, 'y': 118}, {'x': 4, 'y': 85}, {'x': 5, 'y': 111}, {'x': 6, 'y': 99}, {'x': 7, 'y': 88}, {'x': 8, 'y': 75}, {'x': 9, 'y': 92}, {'x': 10, 'y': 85}, {'x': 11, 'y': 89}, {'x': 12, 'y': 107}, {'x': 13, 'y': 115}, {'x': 14, 'y': 81}, {'x': 15, 'y': 98}, {'x': 16, 'y': 107}, {'x': 17, 'y': 498}, {'x': 18, 'y': 592}, {'x': 19, 'y': 417}]}], housing_type=[{'key': 'Data', 'values': [{'x': 'In Occupied Housing Units', 'y': 18949}, {'x': 'Correctional Facility For Adults', 'y': 0}, {'x': 'Juvenile Facilities', 'y': 0}, {'x': 'Nursing Facilities', 'y': 0}, {'x': 'Other Institutional', 'y': 0}, {'x': 'College Student Housing', 'y': 1394}, {'x': 'Military Quarters', 'y': 0}, {'x': 'Other Noninstitutional', 'y': 759}]}], year_housing_was_built=[{'key': 'Data', 'values': [{'x': '1939 Or Earlier', 'y': 4876}, {'x': '1940s', 'y': 741}, {'x': '1950s', 'y': 627}, {'x': '1960s', 'y': 2396}, {'x': '1970s', 'y': 161}, {'x': '1980s', 'y': 451}, {'x': '1990s', 'y': 359}, {'x': '2000s', 'y': 2456}, {'x': '2010 Or Later', 'y': 550}]}], housing_occupancy=[{'key': 'Data', 'values': [{'x': 'Owned Households With A Mortgage', 'y': 1348}, {'x': 'Owned Households Free & Clear', 'y': 1487}, {'x': 'Renter Occupied Households', 'y': 8196}, {'x': 'Households Vacant', 'y': 1445}]}], vacancy_reason=[{'key': 'Data', 'values': [{'x': 'For Rent', 'y': 758}, {'x': 'Rented & Unoccupied', 'y': 32}, {'x': 'For Sale Only', 'y': 60}, {'x': 'Sold & Unoccupied', 'y': 24}, {'x': 'For Season Recreational Or Occasional Use', 'y': 278}, {'x': 'For Migrant Workers', 'y': 0}, {'x': 'Vacant For Other Reasons', 'y': 293}]}], owner_occupied_home_values=[{'key': 'Data', 'values': [{'x': '$1-$24,999', 'y': 205}, {'x': '$25,000-$49,999', 'y': 212}, {'x': '$50,000-$99,999', 'y': 387}, {'x': '$100,000-$149,999', 'y': 52}, {'x': '$150,000-$199,999', 'y': 69}, {'x': '$200,000-$399,999', 'y': 235}, {'x': '$400,000-$749,999', 'y': 494}, {'x': '$750,000+', 'y': 1353}]}], rental_properties_by_number_of_rooms=[{'key': 'Data', 'values': [{'x': 'Studio Apartment', 'y': 1610}, {'x': '1 Bedroom', 'y': 3869}, {'x': '2 Bedroom', 'y': 1640}, {'x': '3+ Bedroom', 'y': 898}]}], monthly_rent_including_utilities_studio_apt=[{'key': 'Data', 'values': [{'x': '< $200', 'y': 19}, {'x': '$200-$299', 'y': 117}, {'x': '$300-$499', 'y': 130}, {'x': '$500-$749', 'y': 467}, {'x': '$750-$999', 'y': 255}, {'x': '$1,000+', 'y': 2836}]}], monthly_rent_including_utilities_1_b=[{'key': 'Data', 'values': [{'x': '< $200', 'y': 0}, {'x': '$200-$299', 'y': 119}, {'x': '$300-$499', 'y': 0}, {'x': '$500-$749', 'y': 214}, {'x': '$750-$999', 'y': 282}, {'x': '$1,000+', 'y': 1025}]}], monthly_rent_including_utilities_2_b=[{'key': 'Data', 'values': [{'x': '< $200', 'y': 0}, {'x': '$200-$299', 'y': 36}, {'x': '$300-$499', 'y': 6}, {'x': '$500-$749', 'y': 126}, {'x': '$750-$999', 'y': 187}, {'x': '$1,000+', 'y': 515}]}], monthly_rent_including_utilities_3plus_b=[{'key': 'Data', 'values': [{'x': '< $200', 'y': 0}, {'x': '$200-$299', 'y': 31}, {'x': '$300-$499', 'y': 177}, {'x': '$500-$749', 'y': 61}, {'x': '$750-$999', 'y': 150}, {'x': '$1,000+', 'y': 1191}]}], employment_status=[{'key': 'Data', 'values': [{'x': 'Worked Full-time With Earnings', 'y': 9455}, {'x': 'Worked Part-time With Earnings', 'y': 5292}, {'x': 'No Earnings', 'y': 5223}]}], average_household_income_over_time=[{'key': 'Data', 'values': [{'x': 2005, 'y': 98615.5718}, {'x': 2006, 'y': 115796.5223}, {'x': 2007, 'y': 134949.394}, {'x': 2008, 'y': 122949.1967}, {'x': 2009, 'y': 132718.1473}, {'x': 2010, 'y': 128706.5596}, {'x': 2011, 'y': 129849.7425}, {'x': 2012, 'y': 144040.5263}, {'x': 2013, 'y': 152670.6997}, {'x': 2014, 'y': 167894.8864}, {'x': 2015, 'y': 165547.5891}, {'x': 2016, 'y': 157802.7548}, {'x': 2017, 'y': 181604.1069}, {'x': 2018, 'y': 179965.0155}]}], household_income=[{'key': 'Data', 'values': [{'x': '< $25,000', 'y': 2249}, {'x': '$25,000-$44,999', 'y': 1438}, {'x': '$45,000-$59,999', 'y': 868}, {'x': '$60,000-$99,999', 'y': 1685}, {'x': '$100,000-$149,999', 'y': 1469}, {'x': '$150,000-$199,999', 'y': 1043}, {'x': '$200,000+', 'y': 2272}]}], annual_individual_earnings=[{'key': 'Data', 'values': [{'x': '< $10,000', 'y': 2111}, {'x': '$10,000-$19,999', 'y': 1269}, {'x': '$20,000-$29,999', 'y': 1375}, {'x': '$30,000-$39,999', 'y': 974}, {'x': '$40,000-$49,999', 'y': 915}, {'x': '$50,000-$64,999', 'y': 1424}, {'x': '$65,000-$74,999', 'y': 772}, {'x': '$75,000-$99,999', 'y': 1377}, {'x': '$100,000+', 'y': 4530}]}], sources_of_household_income____percent_of_households_receiving_income=[{'key': 'Data', 'values': [{'x': 'Wages', 'y': 83.9009}, {'x': 'Business', 'y': 19.8142}, {'x': 'Partnership', 'y': 10.8359}, {'x': 'Unemployment', 'y': 2.4149}]}], sources_of_household_income____average_income_per_household_by_income_source=[{'key': 'Data', 'values': [{'x': 'Wages', 'y': 153436.31}, {'x': 'Business', 'y': 31965}, {'x': 'Partnership', 'y': 94861.1429}, {'x': 'Unemployment', 'y': 5594.8718}]}], household_investment_income____percent_of_households_receiving_investment_income=[{'key': 'Data', 'values': [{'x': 'Interest', 'y': 43.4056}, {'x': 'Ordinary Dividends', 'y': 36.7183}, {'x': 'Qualified Dividends', 'y': 34.7988}, {'x': 'Capital Gains', 'y': 33.4985}]}], household_investment_income____average_income_per_household_by_income_source=[{'key': 'Data', 'values': [{'x': 'Interest', 'y': 5259.0585}, {'x': 'Ordinary Dividends', 'y': 13788.5329}, {'x': 'Qualified Dividends', 'y': 10246.9751}, {'x': 'Capital Gains', 'y': 57698.1516}]}], household_retirement_income____percent_of_households_receiving_retirement_incom=[{'key': 'Data', 'values': [{'x': 'IRA/pension/annuity Distributions', 'y': 13.6842}, {'x': 'Social Security', 'y': 8.2353}]}], household_retirement_income____average_income_per_household_by_income_source=[{'key': 'Data', 'values': [{'x': 'IRA/pension/annuity Distributions', 'y': 34608.1448}, {'x': 'Social Security', 'y': 17687.9699}]}], source_of_earnings=[{'key': 'Data', 'values': [{'x': 'Worked Full-time With Earnings', 'y': 9455}, {'x': 'Worked Part-time With Earnings', 'y': 5292}, {'x': 'No Earnings', 'y': 5223}]}], means_of_transportation_to_work_for_workers_16_and_over=[{'key': 'Data', 'values': [{'x': 'Car, Truck, Or Van', 'y': 745}, {'x': 'Public Transportation', 'y': 5531}, {'x': 'Taxicab', 'y': 564}, {'x': 'Motorcycle', 'y': 0}, {'x': 'Bicycle, Walked, Or Other Means', 'y': 5061}, {'x': 'Worked At Home', 'y': 932}]}], travel_time_to_work_in_minutes=[{'key': 'Data', 'values': [{'x': '< 10', 'y': 949}, {'x': '10-19', 'y': 3494}, {'x': '20-29', 'y': 3274}, {'x': '30-39', 'y': 2215}, {'x': '40-44', 'y': 377}, {'x': '45-59', 'y': 667}, {'x': '60-89', 'y': 691}, {'x': '90+', 'y': 234}]}], educational_attainment_for_population_25_and_over=[{'key': 'Data', 'values': [{'x': 'Less Than High School Diploma', 'y': 1291}, {'x': 'High School Graduate', 'y': 3067}, {'x': \"Associate's Degree\", 'y': 515}, {'x': \"Bachelor's Degree\", 'y': 5960}, {'x': \"Master's Degree\", 'y': 3399}, {'x': 'Professional School Degree', 'y': 1154}, {'x': 'Doctorate Degree', 'y': 490}]}], school_enrollment_age_3_to_17=[{'key': 'Data', 'values': [{'x': 'Enrolled In Public School', 'y': 1145}, {'x': 'Enrolled In Private School', 'y': 544}, {'x': 'Not Enrolled In School', 'y': 62}]}], zipcode='10001', zipcode_type='STANDARD', major_city='New York', post_office_city='New York, NY', common_city_list=['New York'], county='New York County', state='NY', lat=40.75, lng=-74.0, timezone='America/New_York', radius_in_miles=0.9090909090909091, area_code_list='718,917,347,646', population=21102, population_density=33959.0, land_area_in_sqmi=0.62, water_area_in_sqmi=0.0, housing_units=12476, occupied_housing_units=11031, median_home_value=650200, median_household_income=81671, bounds_west=-74.008621, bounds_east=-73.984076, bounds_north=40.759731, bounds_south=40.743451)"
      ]
     },
     "execution_count": 26,
     "metadata": {},
     "output_type": "execute_result"
    }
   ],
   "source": [
    "search = SearchEngine(simple_or_comprehensive=SearchEngine.SimpleOrComprehensiveArgEnum.comprehensive)\n",
    "zipcode_10001 = search.by_zipcode(\"10001\")\n",
    "zipcode_10001"
   ]
  },
  {
   "cell_type": "code",
   "execution_count": 30,
   "id": "56c01fa9",
   "metadata": {},
   "outputs": [
    {
     "data": {
      "text/plain": [
       "33959.0"
      ]
     },
     "execution_count": 30,
     "metadata": {},
     "output_type": "execute_result"
    }
   ],
   "source": [
    "zipcode_10001.population_density\n",
    "# county, state, population_density, median_home_value, median_household_income"
   ]
  },
  {
   "cell_type": "code",
   "execution_count": 39,
   "id": "72c5d7c3",
   "metadata": {},
   "outputs": [
    {
     "data": {
      "text/plain": [
       "'/Users/yaochen/Developer/ness-statathon-2025/data_processing/feature_engineer'"
      ]
     },
     "execution_count": 39,
     "metadata": {},
     "output_type": "execute_result"
    }
   ],
   "source": [
    "os.getcwd()"
   ]
  },
  {
   "cell_type": "code",
   "execution_count": 40,
   "id": "65bb1fba",
   "metadata": {},
   "outputs": [
    {
     "name": "stdout",
     "output_type": "stream",
     "text": [
      "claim_number                       2759\n",
      "age_of_driver                        58\n",
      "gender                                M\n",
      "marital_status                      1.0\n",
      "safty_rating                         83\n",
      "annual_income                    117115\n",
      "high_education_ind                    1\n",
      "address_change_ind                    0\n",
      "living_status                       Own\n",
      "zip_code                          85027\n",
      "claim_date                     4/2/2015\n",
      "claim_day_of_week              Thursday\n",
      "accident_site                     Local\n",
      "past_num_of_claims                    0\n",
      "witness_present_ind                 1.0\n",
      "liab_prct                            88\n",
      "channel                          Broker\n",
      "policy_report_filed_ind               0\n",
      "claim_est_payout                    0.0\n",
      "age_of_vehicle                        4\n",
      "vehicle_category                 Medium\n",
      "vehicle_price              55066.875563\n",
      "vehicle_color                     other\n",
      "vehicle_weight              21515.14956\n",
      "fraud                                 0\n",
      "Name: 0, dtype: object\n"
     ]
    }
   ],
   "source": [
    "origin_train_df = pd.read_csv('../../data/train_2025.csv')\n",
    "print(origin_train_df.iloc[0])"
   ]
  },
  {
   "cell_type": "code",
   "execution_count": 41,
   "id": "797f508f",
   "metadata": {},
   "outputs": [
    {
     "name": "stdout",
     "output_type": "stream",
     "text": [
      "   zipcode\n",
      "0    85027\n",
      "1    85004\n",
      "2    85027\n",
      "3    15028\n",
      "4    20148\n"
     ]
    }
   ],
   "source": [
    "zipcodes = origin_train_df[\"zip_code\"]\n",
    "zipcode_df = pd.DataFrame({'zipcode': zipcodes})\n",
    "print(zipcode_df.head())"
   ]
  },
  {
   "cell_type": "code",
   "execution_count": 42,
   "id": "fa5e12fd",
   "metadata": {},
   "outputs": [
    {
     "name": "stdout",
     "output_type": "stream",
     "text": [
      "   zipcode county state population_density median_home_value  \\\n",
      "0    85027   None  None               None              None   \n",
      "\n",
      "  median_household_income  \n",
      "0                    None  \n"
     ]
    }
   ],
   "source": [
    "# TODO: you can add more features\n",
    "# county, state, population_density, median_home_value, median_household_income\n",
    "new_features = ['county', 'state', 'population_density', 'median_home_value', 'median_household_income']\n",
    "\n",
    "for new_feature in new_features:\n",
    "    if new_feature not in zipcode_df.columns:\n",
    "        zipcode_df[new_feature] = None \n",
    "\n",
    "print(zipcode_df.iloc[0:1])"
   ]
  },
  {
   "cell_type": "code",
   "execution_count": 43,
   "id": "7e7ef733",
   "metadata": {},
   "outputs": [
    {
     "data": {
      "text/plain": [
       "'Maricopa County'"
      ]
     },
     "execution_count": 43,
     "metadata": {},
     "output_type": "execute_result"
    }
   ],
   "source": [
    "zipcode_0 = search.by_zipcode(zipcodes[0])\n",
    "getattr(zipcode_0, 'county')"
   ]
  },
  {
   "cell_type": "code",
   "execution_count": 44,
   "id": "603b1b05",
   "metadata": {},
   "outputs": [
    {
     "name": "stdout",
     "output_type": "stream",
     "text": [
      "   zipcode county state population_density median_home_value  \\\n",
      "0    85027   None  None               None              None   \n",
      "1    85004   None  None               None              None   \n",
      "2    85027   None  None               None              None   \n",
      "3    15028   None  None               None              None   \n",
      "4    20148   None  None               None              None   \n",
      "\n",
      "  median_household_income  \n",
      "0                    None  \n",
      "1                    None  \n",
      "2                    None  \n",
      "3                    None  \n",
      "4                    None  \n"
     ]
    }
   ],
   "source": [
    "print(zipcode_df.iloc[0:5])"
   ]
  },
  {
   "cell_type": "code",
   "execution_count": 47,
   "id": "4480d196",
   "metadata": {},
   "outputs": [],
   "source": [
    "for i in range(len(zipcodes)):\n",
    "    zipcode_i = search.by_zipcode(zipcodes[i])\n",
    "    if zipcode_i:\n",
    "        for j, feature in enumerate(new_features):\n",
    "            zipcode_df.iloc[i, j+1] = getattr(zipcode_i, feature)\n",
    "    else:\n",
    "        continue"
   ]
  },
  {
   "cell_type": "code",
   "execution_count": 48,
   "id": "8a377396",
   "metadata": {},
   "outputs": [
    {
     "name": "stdout",
     "output_type": "stream",
     "text": [
      "   zipcode            county state population_density median_home_value  \\\n",
      "0    85027   Maricopa County    AZ             2642.0            128900   \n",
      "1    85004   Maricopa County    AZ             2434.0            205200   \n",
      "2    85027   Maricopa County    AZ             2642.0            128900   \n",
      "3    15028  Allegheny County    PA              711.0             63300   \n",
      "4    20148    Loudoun County    VA             1739.0            536000   \n",
      "\n",
      "  median_household_income  \n",
      "0                   51919  \n",
      "1                   26008  \n",
      "2                   51919  \n",
      "3                   52500  \n",
      "4                  161433  \n"
     ]
    }
   ],
   "source": [
    "print(zipcode_df.iloc[0:5])"
   ]
  },
  {
   "cell_type": "code",
   "execution_count": 50,
   "id": "10b87c54",
   "metadata": {},
   "outputs": [],
   "source": [
    "zipcode_df.to_csv('../../data/zipcode_extend.csv')"
   ]
  }
 ],
 "metadata": {
  "kernelspec": {
   "display_name": "ness_2025_zipcode",
   "language": "python",
   "name": "python3"
  },
  "language_info": {
   "codemirror_mode": {
    "name": "ipython",
    "version": 3
   },
   "file_extension": ".py",
   "mimetype": "text/x-python",
   "name": "python",
   "nbconvert_exporter": "python",
   "pygments_lexer": "ipython3",
   "version": "3.10.16"
  }
 },
 "nbformat": 4,
 "nbformat_minor": 5
}
